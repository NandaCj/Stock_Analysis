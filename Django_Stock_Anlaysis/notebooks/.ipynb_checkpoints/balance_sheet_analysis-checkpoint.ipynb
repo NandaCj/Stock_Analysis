{
 "cells": [
  {
   "cell_type": "code",
   "execution_count": 74,
   "metadata": {},
   "outputs": [
    {
     "data": {
      "text/html": [
       "        <script type=\"text/javascript\">\n",
       "        window.PlotlyConfig = {MathJaxConfig: 'local'};\n",
       "        if (window.MathJax) {MathJax.Hub.Config({SVG: {font: \"STIX-Web\"}});}\n",
       "        if (typeof require !== 'undefined') {\n",
       "        require.undef(\"plotly\");\n",
       "        requirejs.config({\n",
       "            paths: {\n",
       "                'plotly': ['https://cdn.plot.ly/plotly-latest.min']\n",
       "            }\n",
       "        });\n",
       "        require(['plotly'], function(Plotly) {\n",
       "            window._Plotly = Plotly;\n",
       "        });\n",
       "        }\n",
       "        </script>\n",
       "        "
      ]
     },
     "metadata": {},
     "output_type": "display_data"
    }
   ],
   "source": [
    "import pandas as pd \n",
    "import plotly\n",
    "from plotly.offline import init_notebook_mode\n",
    "init_notebook_mode(connected=True)\n",
    "import plotly.plotly as py\n",
    "import plotly.graph_objs as go\n",
    "from sklearn.preprocessing import StandardScaler, MinMaxScaler\n",
    "\n",
    "scaler = StandardScaler()\n",
    "normalizer = MinMaxScaler()\n"
   ]
  },
  {
   "cell_type": "code",
   "execution_count": null,
   "metadata": {},
   "outputs": [],
   "source": []
  },
  {
   "cell_type": "code",
   "execution_count": 75,
   "metadata": {},
   "outputs": [
    {
     "name": "stderr",
     "output_type": "stream",
     "text": [
      "/home/nandagopalparamasivam/PycharmProjects/Stock_Analysis/Django_Stock_Anlaysis/stock_env/lib/python3.6/site-packages/ipykernel_launcher.py:8: FutureWarning:\n",
      "\n",
      "reshape is deprecated and will raise in a subsequent release. Please use .values.reshape(...) instead\n",
      "\n",
      "/home/nandagopalparamasivam/PycharmProjects/Stock_Analysis/Django_Stock_Anlaysis/stock_env/lib/python3.6/site-packages/ipykernel_launcher.py:8: FutureWarning:\n",
      "\n",
      "reshape is deprecated and will raise in a subsequent release. Please use .values.reshape(...) instead\n",
      "\n",
      "/home/nandagopalparamasivam/PycharmProjects/Stock_Analysis/Django_Stock_Anlaysis/stock_env/lib/python3.6/site-packages/ipykernel_launcher.py:8: FutureWarning:\n",
      "\n",
      "reshape is deprecated and will raise in a subsequent release. Please use .values.reshape(...) instead\n",
      "\n",
      "/home/nandagopalparamasivam/PycharmProjects/Stock_Analysis/Django_Stock_Anlaysis/stock_env/lib/python3.6/site-packages/ipykernel_launcher.py:8: FutureWarning:\n",
      "\n",
      "reshape is deprecated and will raise in a subsequent release. Please use .values.reshape(...) instead\n",
      "\n",
      "/home/nandagopalparamasivam/PycharmProjects/Stock_Analysis/Django_Stock_Anlaysis/stock_env/lib/python3.6/site-packages/ipykernel_launcher.py:8: FutureWarning:\n",
      "\n",
      "reshape is deprecated and will raise in a subsequent release. Please use .values.reshape(...) instead\n",
      "\n",
      "/home/nandagopalparamasivam/PycharmProjects/Stock_Analysis/Django_Stock_Anlaysis/stock_env/lib/python3.6/site-packages/ipykernel_launcher.py:8: FutureWarning:\n",
      "\n",
      "reshape is deprecated and will raise in a subsequent release. Please use .values.reshape(...) instead\n",
      "\n",
      "/home/nandagopalparamasivam/PycharmProjects/Stock_Analysis/Django_Stock_Anlaysis/stock_env/lib/python3.6/site-packages/ipykernel_launcher.py:8: FutureWarning:\n",
      "\n",
      "reshape is deprecated and will raise in a subsequent release. Please use .values.reshape(...) instead\n",
      "\n",
      "/home/nandagopalparamasivam/PycharmProjects/Stock_Analysis/Django_Stock_Anlaysis/stock_env/lib/python3.6/site-packages/ipykernel_launcher.py:8: FutureWarning:\n",
      "\n",
      "reshape is deprecated and will raise in a subsequent release. Please use .values.reshape(...) instead\n",
      "\n",
      "/home/nandagopalparamasivam/PycharmProjects/Stock_Analysis/Django_Stock_Anlaysis/stock_env/lib/python3.6/site-packages/ipykernel_launcher.py:8: FutureWarning:\n",
      "\n",
      "reshape is deprecated and will raise in a subsequent release. Please use .values.reshape(...) instead\n",
      "\n",
      "/home/nandagopalparamasivam/PycharmProjects/Stock_Analysis/Django_Stock_Anlaysis/stock_env/lib/python3.6/site-packages/ipykernel_launcher.py:8: FutureWarning:\n",
      "\n",
      "reshape is deprecated and will raise in a subsequent release. Please use .values.reshape(...) instead\n",
      "\n",
      "/home/nandagopalparamasivam/PycharmProjects/Stock_Analysis/Django_Stock_Anlaysis/stock_env/lib/python3.6/site-packages/ipykernel_launcher.py:8: FutureWarning:\n",
      "\n",
      "reshape is deprecated and will raise in a subsequent release. Please use .values.reshape(...) instead\n",
      "\n",
      "/home/nandagopalparamasivam/PycharmProjects/Stock_Analysis/Django_Stock_Anlaysis/stock_env/lib/python3.6/site-packages/ipykernel_launcher.py:8: FutureWarning:\n",
      "\n",
      "reshape is deprecated and will raise in a subsequent release. Please use .values.reshape(...) instead\n",
      "\n",
      "/home/nandagopalparamasivam/PycharmProjects/Stock_Analysis/Django_Stock_Anlaysis/stock_env/lib/python3.6/site-packages/IPython/core/display.py:694: UserWarning:\n",
      "\n",
      "Consider using IPython.display.IFrame instead\n",
      "\n"
     ]
    },
    {
     "data": {
      "text/html": [
       "<iframe id=\"igraph\" scrolling=\"no\" style=\"border:none;\" seamless=\"seamless\" src=\"https://plot.ly/~nandha.paramasivam/16.embed\" height=\"525px\" width=\"100%\"></iframe>"
      ],
      "text/plain": [
       "<chart_studio.tools.PlotlyDisplay object>"
      ]
     },
     "execution_count": 75,
     "metadata": {},
     "output_type": "execute_result"
    }
   ],
   "source": [
    "df = pd.read_json('http://127.0.0.1:8000/api/v1/short-balance-sheet/')\n",
    "banks = df.stock_name.unique().tolist()\n",
    "traces = []\n",
    "for bank in banks:\n",
    "#     print(bank , df[df['stock_name']==bank]['net_worth'])\n",
    "    trace = go.Scatter(\n",
    "                    x=df[df['stock_name']==bank]['year'],\n",
    "                    y=normalizer.fit_transform(df[df['stock_name']==bank]['net_worth'].reshape(-1,1)),\n",
    "                    name=bank\n",
    "                    )\n",
    "    traces.append(trace)\n",
    "\n",
    "py.iplot(traces)"
   ]
  },
  {
   "cell_type": "code",
   "execution_count": 51,
   "metadata": {},
   "outputs": [
    {
     "data": {
      "text/plain": [
       "40    42900.45\n",
       "41    37483.82\n",
       "42    27617.94\n",
       "43    23962.47\n",
       "44    14144.08\n",
       "Name: net_worth, dtype: float64"
      ]
     },
     "execution_count": 51,
     "metadata": {},
     "output_type": "execute_result"
    }
   ],
   "source": [
    "df[df['stock_name']=='hdfc_bank']['net_worth']"
   ]
  },
  {
   "cell_type": "code",
   "execution_count": 57,
   "metadata": {},
   "outputs": [
    {
     "data": {
      "text/html": [
       "<div>\n",
       "<style scoped>\n",
       "    .dataframe tbody tr th:only-of-type {\n",
       "        vertical-align: middle;\n",
       "    }\n",
       "\n",
       "    .dataframe tbody tr th {\n",
       "        vertical-align: top;\n",
       "    }\n",
       "\n",
       "    .dataframe thead th {\n",
       "        text-align: right;\n",
       "    }\n",
       "</style>\n",
       "<table border=\"1\" class=\"dataframe\">\n",
       "  <thead>\n",
       "    <tr style=\"text-align: right;\">\n",
       "      <th></th>\n",
       "      <th>id</th>\n",
       "      <th>net_current_assets</th>\n",
       "      <th>net_worth</th>\n",
       "      <th>stock_name</th>\n",
       "      <th>total_assets</th>\n",
       "      <th>total_current_assests</th>\n",
       "      <th>total_liabilities</th>\n",
       "      <th>year</th>\n",
       "    </tr>\n",
       "  </thead>\n",
       "  <tbody>\n",
       "    <tr>\n",
       "      <th>0</th>\n",
       "      <td>134</td>\n",
       "      <td>232158.68</td>\n",
       "      <td>25758.28</td>\n",
       "      <td>yes_bank</td>\n",
       "      <td>301390.01</td>\n",
       "      <td>243214.27</td>\n",
       "      <td>301390.01</td>\n",
       "      <td>2019-04-01</td>\n",
       "    </tr>\n",
       "    <tr>\n",
       "      <th>5</th>\n",
       "      <td>139</td>\n",
       "      <td>894814.52</td>\n",
       "      <td>149206.35</td>\n",
       "      <td>icici_bank</td>\n",
       "      <td>1189432.40</td>\n",
       "      <td>949922.81</td>\n",
       "      <td>1189432.40</td>\n",
       "      <td>2019-04-01</td>\n",
       "    </tr>\n",
       "    <tr>\n",
       "      <th>10</th>\n",
       "      <td>144</td>\n",
       "      <td>588917.50</td>\n",
       "      <td>66676.30</td>\n",
       "      <td>federal_bank</td>\n",
       "      <td>767923.42</td>\n",
       "      <td>621990.62</td>\n",
       "      <td>767923.42</td>\n",
       "      <td>2019-04-01</td>\n",
       "    </tr>\n",
       "    <tr>\n",
       "      <th>15</th>\n",
       "      <td>149</td>\n",
       "      <td>638095.07</td>\n",
       "      <td>105158.94</td>\n",
       "      <td>pbn_bank</td>\n",
       "      <td>851995.96</td>\n",
       "      <td>668291.47</td>\n",
       "      <td>848992.77</td>\n",
       "      <td>2019-04-01</td>\n",
       "    </tr>\n",
       "    <tr>\n",
       "      <th>20</th>\n",
       "      <td>154</td>\n",
       "      <td>123712.20</td>\n",
       "      <td>13273.04</td>\n",
       "      <td>rbl_bank</td>\n",
       "      <td>156013.72</td>\n",
       "      <td>127043.48</td>\n",
       "      <td>156008.71</td>\n",
       "      <td>2019-04-01</td>\n",
       "    </tr>\n",
       "    <tr>\n",
       "      <th>25</th>\n",
       "      <td>159</td>\n",
       "      <td>558014.96</td>\n",
       "      <td>44787.13</td>\n",
       "      <td>idfc_bank</td>\n",
       "      <td>763725.41</td>\n",
       "      <td>572821.24</td>\n",
       "      <td>760143.18</td>\n",
       "      <td>2019-04-01</td>\n",
       "    </tr>\n",
       "    <tr>\n",
       "      <th>30</th>\n",
       "      <td>164</td>\n",
       "      <td>567585.74</td>\n",
       "      <td>50983.10</td>\n",
       "      <td>bob_bank</td>\n",
       "      <td>756874.11</td>\n",
       "      <td>591699.03</td>\n",
       "      <td>756874.11</td>\n",
       "      <td>2019-04-01</td>\n",
       "    </tr>\n",
       "    <tr>\n",
       "      <th>35</th>\n",
       "      <td>169</td>\n",
       "      <td>60530.96</td>\n",
       "      <td>7547.32</td>\n",
       "      <td>kotak_bank</td>\n",
       "      <td>77774.72</td>\n",
       "      <td>63115.98</td>\n",
       "      <td>77773.80</td>\n",
       "      <td>2019-04-01</td>\n",
       "    </tr>\n",
       "    <tr>\n",
       "      <th>40</th>\n",
       "      <td>174</td>\n",
       "      <td>228188.47</td>\n",
       "      <td>42900.45</td>\n",
       "      <td>hdfc_bank</td>\n",
       "      <td>301029.11</td>\n",
       "      <td>239331.46</td>\n",
       "      <td>301029.11</td>\n",
       "      <td>2019-04-01</td>\n",
       "    </tr>\n",
       "  </tbody>\n",
       "</table>\n",
       "</div>"
      ],
      "text/plain": [
       "     id  net_current_assets  net_worth    stock_name  total_assets  \\\n",
       "0   134           232158.68   25758.28      yes_bank     301390.01   \n",
       "5   139           894814.52  149206.35    icici_bank    1189432.40   \n",
       "10  144           588917.50   66676.30  federal_bank     767923.42   \n",
       "15  149           638095.07  105158.94      pbn_bank     851995.96   \n",
       "20  154           123712.20   13273.04      rbl_bank     156013.72   \n",
       "25  159           558014.96   44787.13     idfc_bank     763725.41   \n",
       "30  164           567585.74   50983.10      bob_bank     756874.11   \n",
       "35  169            60530.96    7547.32    kotak_bank      77774.72   \n",
       "40  174           228188.47   42900.45     hdfc_bank     301029.11   \n",
       "\n",
       "    total_current_assests  total_liabilities        year  \n",
       "0               243214.27          301390.01  2019-04-01  \n",
       "5               949922.81         1189432.40  2019-04-01  \n",
       "10              621990.62          767923.42  2019-04-01  \n",
       "15              668291.47          848992.77  2019-04-01  \n",
       "20              127043.48          156008.71  2019-04-01  \n",
       "25              572821.24          760143.18  2019-04-01  \n",
       "30              591699.03          756874.11  2019-04-01  \n",
       "35               63115.98           77773.80  2019-04-01  \n",
       "40              239331.46          301029.11  2019-04-01  "
      ]
     },
     "execution_count": 57,
     "metadata": {},
     "output_type": "execute_result"
    }
   ],
   "source": [
    "df[df['year']=='2019-04-01']"
   ]
  },
  {
   "cell_type": "code",
   "execution_count": 65,
   "metadata": {},
   "outputs": [
    {
     "data": {
      "text/plain": [
       "array([149206.35, 106295.  ,  89462.35,  72677.76,  62009.42])"
      ]
     },
     "execution_count": 65,
     "metadata": {},
     "output_type": "execute_result"
    }
   ],
   "source": [
    "df[df['stock_name']=='hdfc_bank']['net_worth'].values"
   ]
  },
  {
   "cell_type": "code",
   "execution_count": 76,
   "metadata": {},
   "outputs": [
    {
     "data": {
      "text/plain": [
       "28.0"
      ]
     },
     "execution_count": 76,
     "metadata": {},
     "output_type": "execute_result"
    }
   ],
   "source": [
    "140 /5"
   ]
  },
  {
   "cell_type": "code",
   "execution_count": 77,
   "metadata": {},
   "outputs": [
    {
     "data": {
      "text/plain": [
       "46.666666666666664"
      ]
     },
     "execution_count": 77,
     "metadata": {},
     "output_type": "execute_result"
    }
   ],
   "source": [
    "140 /3"
   ]
  },
  {
   "cell_type": "code",
   "execution_count": 79,
   "metadata": {},
   "outputs": [
    {
     "data": {
      "text/plain": [
       "998"
      ]
     },
     "execution_count": 79,
     "metadata": {},
     "output_type": "execute_result"
    }
   ],
   "source": [
    "90 + 28 + 20 + 46 + 90 + +28  +46 + 90 + 28 + 46 + 90 + 28 +  90 + 28 + 140 + 90 + 20"
   ]
  },
  {
   "cell_type": "code",
   "execution_count": 80,
   "metadata": {},
   "outputs": [
    {
     "data": {
      "text/plain": [
       "194"
      ]
     },
     "execution_count": 80,
     "metadata": {},
     "output_type": "execute_result"
    }
   ],
   "source": [
    "90 + 28 + 20 + 46 + 10 "
   ]
  },
  {
   "cell_type": "code",
   "execution_count": 81,
   "metadata": {},
   "outputs": [
    {
     "data": {
      "text/plain": [
       "164"
      ]
     },
     "execution_count": 81,
     "metadata": {},
     "output_type": "execute_result"
    }
   ],
   "source": [
    "90 + +28  +46"
   ]
  },
  {
   "cell_type": "code",
   "execution_count": 82,
   "metadata": {},
   "outputs": [
    {
     "data": {
      "text/plain": [
       "174"
      ]
     },
     "execution_count": 82,
     "metadata": {},
     "output_type": "execute_result"
    }
   ],
   "source": [
    "90 + 28 + 46 + 10"
   ]
  },
  {
   "cell_type": "code",
   "execution_count": 83,
   "metadata": {},
   "outputs": [
    {
     "data": {
      "text/plain": [
       "118"
      ]
     },
     "execution_count": 83,
     "metadata": {},
     "output_type": "execute_result"
    }
   ],
   "source": [
    "90 + 28 "
   ]
  },
  {
   "cell_type": "code",
   "execution_count": null,
   "metadata": {},
   "outputs": [],
   "source": []
  }
 ],
 "metadata": {
  "kernelspec": {
   "display_name": "Python 3",
   "language": "python",
   "name": "python3"
  },
  "language_info": {
   "codemirror_mode": {
    "name": "ipython",
    "version": 3
   },
   "file_extension": ".py",
   "mimetype": "text/x-python",
   "name": "python",
   "nbconvert_exporter": "python",
   "pygments_lexer": "ipython3",
   "version": "3.6.8"
  }
 },
 "nbformat": 4,
 "nbformat_minor": 2
}
